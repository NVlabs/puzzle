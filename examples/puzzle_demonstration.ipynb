{
 "cells": [
  {
   "cell_type": "markdown",
   "metadata": {},
   "source": [
    "# Puzzle Framework Demonstration\n",
    "## Distillation-Based NAS for Inference-Optimized LLMs\n",
    "\n",
    "This notebook demonstrates the **Puzzle framework** from the [ICML 2025 paper](https://openreview.net/pdf?id=RY5MMBHRqo), focusing on the Mixed-Integer Programming (MIP) optimization stage that selects optimal block configurations for efficient LLM inference.\n",
    "\n",
    "### Overview of the Puzzle Framework\n",
    "\n",
    "The Puzzle framework consists of three main stages:\n",
    "1. **Block Library Construction**: Train alternative block variants for each layer in parallel with Blockwise Local Distillation (BLD).\n",
    "2. **MIP-based Architecture Search**: Find optimal configuration satisfying hardware constraints (this notebook).\n",
    "3. **Global Knowledge Distillation (GKD)**: Fine-tune the reassembled model.\n",
    "\n",
    "This demonstration focuses on Stage 2, where we use Mixed-Integer Programming to search through billions of possible architectures to find the optimal trade-off between model accuracy and inference efficiency.\n"
   ]
  },
  {
   "cell_type": "code",
   "execution_count": 3,
   "metadata": {},
   "outputs": [],
   "source": [
    "import sys\n",
    "sys.path.append(\"..\")  # Add parent directory to path to find the puzzle module\n",
    "\n",
    "from puzzle.mip_nas import mip_nas, multi_solution_mip_nas\n",
    "from utils import load_and_display_data, display_solution_stats, visualize_runtime_reduction, comprehensive_solution_comparison\n"
   ]
  },
  {
   "cell_type": "markdown",
   "metadata": {},
   "source": [
    "## Understanding the MIP Formulation\n",
    "\n",
    "### The Optimization Problem\n",
    "\n",
    "For a model with $L$ layers, where each layer $i$ has $K_i$ possible block variants, the MIP solver finds:\n",
    "\n",
    "$\\text{maximize/minimize } \\sum_{i=1}^{L} \\sum_{j=1}^{K_i} \\text{score}(i,j) \\cdot x_{i,j}$\n",
    "\n",
    "Subject to:\n",
    "- **Uniqueness constraint**: $\\sum_{j=1}^{K_i} x_{i,j} = 1$ for each layer $i$ (exactly one variant per layer).\n",
    "- **Resource constraints**: $\\sum_{i=1}^{L} \\sum_{j=1}^{K_i} \\text{cost}(i,j)^{(m)} \\cdot x_{i,j} \\leq C_m$ for each constraint $m$.\n",
    "\n",
    "Where:\n",
    "- $x_{i,j} \\in \\{0, 1\\}$ indicates whether block variant $j$ is chosen for layer $i$.\n",
    "- $\\text{score}(i,j)$ is the objective metric (e.g., kl divergence, perplexity, etc.).\n",
    "- $\\text{cost}(i,j)^{(m)}$ is the cost for constraint $m$ (e.g., memory, runtime).\n",
    "- $C_m$ is the budget for constraint $m$.\n",
    "\n",
    "*You can find more information about the formulation of constraints in Section \"Search Algorithm: Mixed-integer Programming\" in the paper.*"
   ]
  },
  {
   "cell_type": "markdown",
   "metadata": {},
   "source": [
    "## Block Library Structure\n",
    "\n",
    "The block library contains all possible configurations for each layer, with their associated quality metrics and resource costs. \\\n",
    "In the actual Puzzle framework, these come from evaluations right after the Blockwise Local Distillation (BLD) stage where each block variant is trained.\n",
    "\n",
    "The block library data structure contains:\n",
    "- **Block variants**: Different block configs such as different FFN intermediate sizes, no-op layers, etc.\n",
    "- **Metrics**: Model quality indicators such as kl divergence loss, perplexity, etc.\n",
    "- **Stats**: Hardware resource usage such as memory, latency, throughput.\n",
    "\n",
    "The following block library (used in the Puzzle paper) contains real measurements from after the BLD (Blockwise Local Distillation) stage, and includes:\n",
    "- Attention variants: parent's attention.\n",
    "- FFN variants: parent's intermediate size * [100%, 75%, 62%, 50%, 25%, 20%, 10%].\n",
    "- Special blocks: no-ops.\n",
    "\n",
    "Additional alternative block types could also be considered, such as Mamba blocks, Window attention, attention with different GQA group sizes, and more."
   ]
  },
  {
   "cell_type": "code",
   "execution_count": 4,
   "metadata": {},
   "outputs": [
    {
     "name": "stdout",
     "output_type": "stream",
     "text": [
      "Llama-3.3-70B-Instruct Block Library:\n",
      "========================================\n",
      "Model: Llama-3.3-70B-Instruct\n",
      "Number of layers: 80\n",
      "Block variants per layer: 16\n",
      "\n",
      "Measurement Configuration:\n",
      "- Batch size: 256\n",
      "- Sequence length: 1,200\n",
      "- Total tokens: 307,200\n",
      "- GPU: NVIDIA H100 80GB HBM3\n",
      "- Data type: fp8\n",
      "\n",
      "Parent Model (Original) Stats:\n",
      "- Memory: 1437.1 MiB per layer\n",
      "- Runtime: 817.0 ms per layer\n",
      "- Attention runtime: 353.8 ms\n",
      "- FFN runtime: 463.2 ms\n",
      "- KV heads: 8\n",
      "- FFN size: 28,672\n",
      "\n",
      "Sample block configurations:\n",
      "\n",
      "1. attention = 8 kv heads (parent * 100%)\t&&\tffn = intermediate size 29e3 (parent * 100%)\n",
      "   - KL divergence: 0.0000\n",
      "   - Memory: 1437.1 MiB\n",
      "   - Runtime: 817.0 ms\n",
      "\n",
      "12. attention = no_op (parent * 0%)\t&&\tffn = intermediate size 14e3 (parent * 50%)\n",
      "   - KL divergence: 0.2982\n",
      "   - Memory: 336.0 MiB\n",
      "   - Runtime: 226.3 ms\n",
      "   → 72.3% speedup\n"
     ]
    }
   ],
   "source": [
    "# Load REAL Llama-3.3-70B-Instruct data from its block library.\n",
    "data_dir = \"data/Llama-3.3-70B-Instruct\"\n",
    "block_library, measurement_info, parent_block_stats = load_and_display_data(data_dir)"
   ]
  },
  {
   "cell_type": "markdown",
   "metadata": {},
   "source": [
    "## MIP arguments:\n",
    "\n",
    "### 1. **Objective**\n",
    "The metric to optimize. In the paper:\n",
    "- `\"metrics.kl_div\"`: KL Divergence (lower is better).\n",
    "- Could also be perplexity, accuracy, or any other metric computed after BLD.\n",
    "\n",
    "### 2. **Constraints**\n",
    "Hardware and deployment constraints:\n",
    "- `\"stats.memory_mib\"`: GPU memory budget (e.g., 80,000 MiB for H100).\n",
    "- `\"stats.runtime_ms\"`: Inference latency target.\n",
    "- Can specify ranges: `{\"stats.memory_mib\": (min, max)}`.\n",
    "\n",
    "### 3. **Multiple solutions**\n",
    "- `num_solutions > 1`: Generate multiple architectures that satisfy the same set of constraints but differ from one another.\n",
    "- `minimal_diversity`: Minimum number of layers that must differ between solutions.\n"
   ]
  },
  {
   "cell_type": "markdown",
   "metadata": {},
   "source": [
    "## Example 1: Single H100 GPU Deployment\n",
    "\n",
    "Optimize for inference on a single NVIDIA H100 GPU (80GB memory) with batch size 256.\n"
   ]
  },
  {
   "cell_type": "code",
   "execution_count": 5,
   "metadata": {},
   "outputs": [
    {
     "name": "stdout",
     "output_type": "stream",
     "text": [
      "Running MIP optimization for H100 deployment...\n",
      "Memory constraint: 80,000 MiB\n",
      "Runtime constraint: 51200.0 ms (for 6,000 tokens/sec)\n",
      "Batch size: 256, Sequence length: 1,200\n",
      "\n",
      "Optimization Results:\n",
      "Solution Statistics:\n",
      "  - Sum of blockwise KL divergence: 6.861455\n",
      "  - Memory usage: 79994.6 MiB\n",
      "  - Runtime: 46980.2 ms\n",
      "  - Throughput: 6,539 tokens/second\n",
      "\n",
      "Compared to Parent Model:\n",
      "  - Memory: 69.6% of parent\n",
      "  - Runtime: 71.9% of parent (neglecting the fact that the parent doesn't even fit on the GPU in this batch size)\n",
      "  - Speedup: at least 1.39x\n",
      "  - Throughput increase: at least +39.1%\n"
     ]
    }
   ],
   "source": [
    "# Example: Optimize for H100 GPU with moderate runtime reduction\n",
    "# This represents real deployment on NVIDIA H100 80GB\n",
    "\n",
    "# Calculate constraints based on hardware and requirements\n",
    "num_active_tokens = measurement_info[\"batch_size\"] * measurement_info[\"sequence_length\"]\n",
    "\n",
    "# H100 memory constraint\n",
    "memory_constraint = 80_000  # MiB (out of 80GB = 81920 MiB total)\n",
    "\n",
    "# Target throughput: 6000 tokens/second\n",
    "throughput_constraint = 6000  # tokens/second\n",
    "runtime_constraint = num_active_tokens / throughput_constraint * 1000  # Convert to latency in milliseconds\n",
    "\n",
    "print(\"Running MIP optimization for H100 deployment...\")\n",
    "print(f\"Memory constraint: {memory_constraint:,} MiB\")\n",
    "print(f\"Runtime constraint: {runtime_constraint:.1f} ms (for {throughput_constraint:,} tokens/sec)\")\n",
    "print(f\"Batch size: {measurement_info['batch_size']}, Sequence length: {measurement_info['sequence_length']:,}\")\n",
    "\n",
    "constraints = {\n",
    "    \"stats.memory_mib\": memory_constraint,\n",
    "    \"stats.runtime_ms\": runtime_constraint,\n",
    "}\n",
    "\n",
    "# Use KL divergence as objective (minimize divergence from parent model)\n",
    "objective = \"metrics.kl_div\"\n",
    "bigger_is_better = False\n",
    "\n",
    "chosen_block_variants, total_value, total_costs = mip_nas(\n",
    "    block_library=block_library,\n",
    "    objective=objective,\n",
    "    constraints=constraints,\n",
    "    bigger_is_better=bigger_is_better\n",
    ")\n",
    "\n",
    "print(f\"\\nOptimization Results:\")\n",
    "display_solution_stats(total_value, total_costs, \n",
    "                       block_library, parent_block_stats, measurement_info)\n",
    "\n",
    "# Store for visualization\n",
    "solution1 = {\n",
    "    \"chosen_block_variants\": chosen_block_variants,\n",
    "    \"total_value\": total_value,\n",
    "    \"total_costs\": total_costs,\n",
    "    \"constraints\": constraints,\n",
    "    \"name\": \"H100 Optimized\"\n",
    "}"
   ]
  },
  {
   "cell_type": "markdown",
   "metadata": {},
   "source": [
    "### Visualizing Runtime Reduction\n",
    "\n",
    "Let's visualize how the MIP solution affects the runtime across different layers compared to the parent model:\n"
   ]
  },
  {
   "cell_type": "code",
   "execution_count": 6,
   "metadata": {},
   "outputs": [
    {
     "data": {
      "application/vnd.plotly.v1+json": {
       "config": {
        "plotlyServerURL": "https://plot.ly"
       },
       "data": [
        {
         "hovertemplate": "Layer %{x}<br>Runtime: %{y:.1f} ms<br>%{text}% of parent<extra></extra>",
         "marker": {
          "color": "steelblue"
         },
         "name": "Optimized Runtime",
         "text": [
          "71",
          "100",
          "100",
          "100",
          "100",
          "100",
          "28",
          "28",
          "100",
          "100",
          "100",
          "37",
          "100",
          "100",
          "100",
          "100",
          "100",
          "100",
          "100",
          "100",
          "100",
          "100",
          "100",
          "100",
          "100",
          "100",
          "100",
          "100",
          "100",
          "100",
          "100",
          "100",
          "100",
          "100",
          "100",
          "100",
          "100",
          "100",
          "100",
          "100",
          "100",
          "100",
          "57",
          "43",
          "57",
          "28",
          "57",
          "57",
          "57",
          "28",
          "57",
          "28",
          "28",
          "57",
          "14",
          "16",
          "28",
          "16",
          "14",
          "16",
          "16",
          "16",
          "16",
          "10",
          "14",
          "14",
          "10",
          "10",
          "10",
          "14",
          "100",
          "100",
          "100",
          "100",
          "100",
          "100",
          "100",
          "100",
          "100",
          "100"
         ],
         "textfont": {
          "size": 8
         },
         "textposition": "inside",
         "texttemplate": "%{text}%",
         "type": "bar",
         "x": {
          "bdata": "AAECAwQFBgcICQoLDA0ODxAREhMUFRYXGBkaGxwdHh8gISIjJCUmJygpKissLS4vMDEyMzQ1Njc4OTo7PD0+P0BBQkNERUZHSElKS0xNTk8=",
          "dtype": "i1"
         },
         "y": {
          "bdata": "tMh2Zk8hgkATg8Bax4eJQBODwFrHh4lAE4PAWseHiUATg8Bax4eJQBODwFrHh4lAZubDAe5KbEBm5sMB7kpsQBODwFrHh4lAE4PAWseHiUATg8Bax4eJQOe7WN/nInNAE4PAWseHiUATg8Bax4eJQBODwFrHh4lAE4PAWseHiUATg8Bax4eJQBODwFrHh4lAE4PAWseHiUATg8Bax4eJQBODwFrHh4lAE4PAWseHiUATg8Bax4eJQBODwFrHh4lAE4PAWseHiUATg8Bax4eJQBODwFrHh4lAE4PAWseHiUATg8Bax4eJQBODwFrHh4lAE4PAWseHiUATg8Bax4eJQBODwFrHh4lAE4PAWseHiUATg8Bax4eJQBODwFrHh4lAE4PAWseHiUATg8Bax4eJQBODwFrHh4lAE4PAWseHiUATg8Bax4eJQBODwFrHh4lA8Gd16WbyfEAz8+EQ0Sp2QPBndelm8nxAZubDAe5KbEDwZ3XpZvJ8QPBndelm8nxA8Gd16WbyfEBm5sMB7kpsQPBndelm8nxAZubDAe5KbEBm5sMB7kpsQPBndelm8nxA0SKWsOv6XEBukuCreE1gQGbmwwHuSmxAbpLgq3hNYEDRIpaw6/pcQG6S4Kt4TWBAbpLgq3hNYEBukuCreE1gQG6S4Kt4TWBAg8CFmIH+VEDRIpaw6/pcQNEilrDr+lxAg8CFmIH+VECDwIWYgf5UQIPAhZiB/lRA0SKWsOv6XEATg8Bax4eJQBODwFrHh4lAE4PAWseHiUATg8Bax4eJQBODwFrHh4lAE4PAWseHiUATg8Bax4eJQBODwFrHh4lAE4PAWseHiUATg8Bax4eJQA==",
          "dtype": "f8"
         }
        },
        {
         "hovertemplate": "Layer %{x}<br>Saved: %{y:.1f} ms<extra></extra>",
         "marker": {
          "color": "lightgreen"
         },
         "name": "Runtime Saved",
         "type": "bar",
         "x": {
          "bdata": "AAECAwQFBgcICQoLDA0ODxAREhMUFRYXGBkaGxwdHh8gISIjJCUmJygpKissLS4vMDEyMzQ1Njc4OTo7PD0+P0BBQkNERUZHSElKS0xNTk8=",
          "dtype": "i1"
         },
         "y": {
          "bdata": "fOkm0d+ZbUAAAAAAAAAAAAAAAAAAAAAAAAAAAAAAAAAAAAAAAAAAAAAAAAAAAAAAeolP2gt1gkB6iU/aC3WCQAAAAAAAAAAAAAAAAAAAAAAAAAAAAAAAAD9KKNam7H9AAAAAAAAAAAAAAAAAAAAAAAAAAAAAAAAAAAAAAAAAAAAAAAAAAAAAAAAAAAAAAAAAAAAAAAAAAAAAAAAAAAAAAAAAAAAAAAAAAAAAAAAAAAAAAAAAAAAAAAAAAAAAAAAAAAAAAAAAAAAAAAAAAAAAAAAAAAAAAAAAAAAAAAAAAAAAAAAAAAAAAAAAAAAAAAAAAAAAAAAAAAAAAAAAAAAAAAAAAAAAAAAAAAAAAAAAAAAAAAAAAAAAAAAAAAAAAAAAAAAAAAAAAAAAAAAAAAAAAAAAAAAAAAAAAAAAAAAAAAAAAAAAAAAAAAAAAAAAAAAANp4LzCcddkDzEp+kveR8QDaeC8wnHXZAeolP2gt1gkA2ngvMJx12QDaeC8wnHXZANp4LzCcddkB6iU/aC3WCQDaeC8wnHXZAeolP2gt1gkB6iU/aC3WCQDaeC8wnHXZAub6t5GnohUB4XsgvaXSFQHqJT9oLdYJAeF7IL2l0hUC5vq3kaeiFQHheyC9pdIVAeF7IL2l0hUB4XsgvaXSFQHheyC9pdIVAA8uvJ/fnhkC5vq3kaeiFQLm+reRp6IVAA8uvJ/fnhkADy68n9+eGQAPLryf354ZAub6t5GnohUAAAAAAAAAAAAAAAAAAAAAAAAAAAAAAAAAAAAAAAAAAAAAAAAAAAAAAAAAAAAAAAAAAAAAAAAAAAAAAAAAAAAAAAAAAAAAAAAAAAAAAAAAAAA==",
          "dtype": "f8"
         }
        }
       ],
       "layout": {
        "bargap": 0,
        "barmode": "stack",
        "height": 400,
        "paper_bgcolor": "white",
        "plot_bgcolor": "white",
        "showlegend": true,
        "template": {
         "data": {
          "bar": [
           {
            "error_x": {
             "color": "#2a3f5f"
            },
            "error_y": {
             "color": "#2a3f5f"
            },
            "marker": {
             "line": {
              "color": "#E5ECF6",
              "width": 0.5
             },
             "pattern": {
              "fillmode": "overlay",
              "size": 10,
              "solidity": 0.2
             }
            },
            "type": "bar"
           }
          ],
          "barpolar": [
           {
            "marker": {
             "line": {
              "color": "#E5ECF6",
              "width": 0.5
             },
             "pattern": {
              "fillmode": "overlay",
              "size": 10,
              "solidity": 0.2
             }
            },
            "type": "barpolar"
           }
          ],
          "carpet": [
           {
            "aaxis": {
             "endlinecolor": "#2a3f5f",
             "gridcolor": "white",
             "linecolor": "white",
             "minorgridcolor": "white",
             "startlinecolor": "#2a3f5f"
            },
            "baxis": {
             "endlinecolor": "#2a3f5f",
             "gridcolor": "white",
             "linecolor": "white",
             "minorgridcolor": "white",
             "startlinecolor": "#2a3f5f"
            },
            "type": "carpet"
           }
          ],
          "choropleth": [
           {
            "colorbar": {
             "outlinewidth": 0,
             "ticks": ""
            },
            "type": "choropleth"
           }
          ],
          "contour": [
           {
            "colorbar": {
             "outlinewidth": 0,
             "ticks": ""
            },
            "colorscale": [
             [
              0,
              "#0d0887"
             ],
             [
              0.1111111111111111,
              "#46039f"
             ],
             [
              0.2222222222222222,
              "#7201a8"
             ],
             [
              0.3333333333333333,
              "#9c179e"
             ],
             [
              0.4444444444444444,
              "#bd3786"
             ],
             [
              0.5555555555555556,
              "#d8576b"
             ],
             [
              0.6666666666666666,
              "#ed7953"
             ],
             [
              0.7777777777777778,
              "#fb9f3a"
             ],
             [
              0.8888888888888888,
              "#fdca26"
             ],
             [
              1,
              "#f0f921"
             ]
            ],
            "type": "contour"
           }
          ],
          "contourcarpet": [
           {
            "colorbar": {
             "outlinewidth": 0,
             "ticks": ""
            },
            "type": "contourcarpet"
           }
          ],
          "heatmap": [
           {
            "colorbar": {
             "outlinewidth": 0,
             "ticks": ""
            },
            "colorscale": [
             [
              0,
              "#0d0887"
             ],
             [
              0.1111111111111111,
              "#46039f"
             ],
             [
              0.2222222222222222,
              "#7201a8"
             ],
             [
              0.3333333333333333,
              "#9c179e"
             ],
             [
              0.4444444444444444,
              "#bd3786"
             ],
             [
              0.5555555555555556,
              "#d8576b"
             ],
             [
              0.6666666666666666,
              "#ed7953"
             ],
             [
              0.7777777777777778,
              "#fb9f3a"
             ],
             [
              0.8888888888888888,
              "#fdca26"
             ],
             [
              1,
              "#f0f921"
             ]
            ],
            "type": "heatmap"
           }
          ],
          "histogram": [
           {
            "marker": {
             "pattern": {
              "fillmode": "overlay",
              "size": 10,
              "solidity": 0.2
             }
            },
            "type": "histogram"
           }
          ],
          "histogram2d": [
           {
            "colorbar": {
             "outlinewidth": 0,
             "ticks": ""
            },
            "colorscale": [
             [
              0,
              "#0d0887"
             ],
             [
              0.1111111111111111,
              "#46039f"
             ],
             [
              0.2222222222222222,
              "#7201a8"
             ],
             [
              0.3333333333333333,
              "#9c179e"
             ],
             [
              0.4444444444444444,
              "#bd3786"
             ],
             [
              0.5555555555555556,
              "#d8576b"
             ],
             [
              0.6666666666666666,
              "#ed7953"
             ],
             [
              0.7777777777777778,
              "#fb9f3a"
             ],
             [
              0.8888888888888888,
              "#fdca26"
             ],
             [
              1,
              "#f0f921"
             ]
            ],
            "type": "histogram2d"
           }
          ],
          "histogram2dcontour": [
           {
            "colorbar": {
             "outlinewidth": 0,
             "ticks": ""
            },
            "colorscale": [
             [
              0,
              "#0d0887"
             ],
             [
              0.1111111111111111,
              "#46039f"
             ],
             [
              0.2222222222222222,
              "#7201a8"
             ],
             [
              0.3333333333333333,
              "#9c179e"
             ],
             [
              0.4444444444444444,
              "#bd3786"
             ],
             [
              0.5555555555555556,
              "#d8576b"
             ],
             [
              0.6666666666666666,
              "#ed7953"
             ],
             [
              0.7777777777777778,
              "#fb9f3a"
             ],
             [
              0.8888888888888888,
              "#fdca26"
             ],
             [
              1,
              "#f0f921"
             ]
            ],
            "type": "histogram2dcontour"
           }
          ],
          "mesh3d": [
           {
            "colorbar": {
             "outlinewidth": 0,
             "ticks": ""
            },
            "type": "mesh3d"
           }
          ],
          "parcoords": [
           {
            "line": {
             "colorbar": {
              "outlinewidth": 0,
              "ticks": ""
             }
            },
            "type": "parcoords"
           }
          ],
          "pie": [
           {
            "automargin": true,
            "type": "pie"
           }
          ],
          "scatter": [
           {
            "fillpattern": {
             "fillmode": "overlay",
             "size": 10,
             "solidity": 0.2
            },
            "type": "scatter"
           }
          ],
          "scatter3d": [
           {
            "line": {
             "colorbar": {
              "outlinewidth": 0,
              "ticks": ""
             }
            },
            "marker": {
             "colorbar": {
              "outlinewidth": 0,
              "ticks": ""
             }
            },
            "type": "scatter3d"
           }
          ],
          "scattercarpet": [
           {
            "marker": {
             "colorbar": {
              "outlinewidth": 0,
              "ticks": ""
             }
            },
            "type": "scattercarpet"
           }
          ],
          "scattergeo": [
           {
            "marker": {
             "colorbar": {
              "outlinewidth": 0,
              "ticks": ""
             }
            },
            "type": "scattergeo"
           }
          ],
          "scattergl": [
           {
            "marker": {
             "colorbar": {
              "outlinewidth": 0,
              "ticks": ""
             }
            },
            "type": "scattergl"
           }
          ],
          "scattermap": [
           {
            "marker": {
             "colorbar": {
              "outlinewidth": 0,
              "ticks": ""
             }
            },
            "type": "scattermap"
           }
          ],
          "scattermapbox": [
           {
            "marker": {
             "colorbar": {
              "outlinewidth": 0,
              "ticks": ""
             }
            },
            "type": "scattermapbox"
           }
          ],
          "scatterpolar": [
           {
            "marker": {
             "colorbar": {
              "outlinewidth": 0,
              "ticks": ""
             }
            },
            "type": "scatterpolar"
           }
          ],
          "scatterpolargl": [
           {
            "marker": {
             "colorbar": {
              "outlinewidth": 0,
              "ticks": ""
             }
            },
            "type": "scatterpolargl"
           }
          ],
          "scatterternary": [
           {
            "marker": {
             "colorbar": {
              "outlinewidth": 0,
              "ticks": ""
             }
            },
            "type": "scatterternary"
           }
          ],
          "surface": [
           {
            "colorbar": {
             "outlinewidth": 0,
             "ticks": ""
            },
            "colorscale": [
             [
              0,
              "#0d0887"
             ],
             [
              0.1111111111111111,
              "#46039f"
             ],
             [
              0.2222222222222222,
              "#7201a8"
             ],
             [
              0.3333333333333333,
              "#9c179e"
             ],
             [
              0.4444444444444444,
              "#bd3786"
             ],
             [
              0.5555555555555556,
              "#d8576b"
             ],
             [
              0.6666666666666666,
              "#ed7953"
             ],
             [
              0.7777777777777778,
              "#fb9f3a"
             ],
             [
              0.8888888888888888,
              "#fdca26"
             ],
             [
              1,
              "#f0f921"
             ]
            ],
            "type": "surface"
           }
          ],
          "table": [
           {
            "cells": {
             "fill": {
              "color": "#EBF0F8"
             },
             "line": {
              "color": "white"
             }
            },
            "header": {
             "fill": {
              "color": "#C8D4E3"
             },
             "line": {
              "color": "white"
             }
            },
            "type": "table"
           }
          ]
         },
         "layout": {
          "annotationdefaults": {
           "arrowcolor": "#2a3f5f",
           "arrowhead": 0,
           "arrowwidth": 1
          },
          "autotypenumbers": "strict",
          "coloraxis": {
           "colorbar": {
            "outlinewidth": 0,
            "ticks": ""
           }
          },
          "colorscale": {
           "diverging": [
            [
             0,
             "#8e0152"
            ],
            [
             0.1,
             "#c51b7d"
            ],
            [
             0.2,
             "#de77ae"
            ],
            [
             0.3,
             "#f1b6da"
            ],
            [
             0.4,
             "#fde0ef"
            ],
            [
             0.5,
             "#f7f7f7"
            ],
            [
             0.6,
             "#e6f5d0"
            ],
            [
             0.7,
             "#b8e186"
            ],
            [
             0.8,
             "#7fbc41"
            ],
            [
             0.9,
             "#4d9221"
            ],
            [
             1,
             "#276419"
            ]
           ],
           "sequential": [
            [
             0,
             "#0d0887"
            ],
            [
             0.1111111111111111,
             "#46039f"
            ],
            [
             0.2222222222222222,
             "#7201a8"
            ],
            [
             0.3333333333333333,
             "#9c179e"
            ],
            [
             0.4444444444444444,
             "#bd3786"
            ],
            [
             0.5555555555555556,
             "#d8576b"
            ],
            [
             0.6666666666666666,
             "#ed7953"
            ],
            [
             0.7777777777777778,
             "#fb9f3a"
            ],
            [
             0.8888888888888888,
             "#fdca26"
            ],
            [
             1,
             "#f0f921"
            ]
           ],
           "sequentialminus": [
            [
             0,
             "#0d0887"
            ],
            [
             0.1111111111111111,
             "#46039f"
            ],
            [
             0.2222222222222222,
             "#7201a8"
            ],
            [
             0.3333333333333333,
             "#9c179e"
            ],
            [
             0.4444444444444444,
             "#bd3786"
            ],
            [
             0.5555555555555556,
             "#d8576b"
            ],
            [
             0.6666666666666666,
             "#ed7953"
            ],
            [
             0.7777777777777778,
             "#fb9f3a"
            ],
            [
             0.8888888888888888,
             "#fdca26"
            ],
            [
             1,
             "#f0f921"
            ]
           ]
          },
          "colorway": [
           "#636efa",
           "#EF553B",
           "#00cc96",
           "#ab63fa",
           "#FFA15A",
           "#19d3f3",
           "#FF6692",
           "#B6E880",
           "#FF97FF",
           "#FECB52"
          ],
          "font": {
           "color": "#2a3f5f"
          },
          "geo": {
           "bgcolor": "white",
           "lakecolor": "white",
           "landcolor": "#E5ECF6",
           "showlakes": true,
           "showland": true,
           "subunitcolor": "white"
          },
          "hoverlabel": {
           "align": "left"
          },
          "hovermode": "closest",
          "mapbox": {
           "style": "light"
          },
          "paper_bgcolor": "white",
          "plot_bgcolor": "#E5ECF6",
          "polar": {
           "angularaxis": {
            "gridcolor": "white",
            "linecolor": "white",
            "ticks": ""
           },
           "bgcolor": "#E5ECF6",
           "radialaxis": {
            "gridcolor": "white",
            "linecolor": "white",
            "ticks": ""
           }
          },
          "scene": {
           "xaxis": {
            "backgroundcolor": "#E5ECF6",
            "gridcolor": "white",
            "gridwidth": 2,
            "linecolor": "white",
            "showbackground": true,
            "ticks": "",
            "zerolinecolor": "white"
           },
           "yaxis": {
            "backgroundcolor": "#E5ECF6",
            "gridcolor": "white",
            "gridwidth": 2,
            "linecolor": "white",
            "showbackground": true,
            "ticks": "",
            "zerolinecolor": "white"
           },
           "zaxis": {
            "backgroundcolor": "#E5ECF6",
            "gridcolor": "white",
            "gridwidth": 2,
            "linecolor": "white",
            "showbackground": true,
            "ticks": "",
            "zerolinecolor": "white"
           }
          },
          "shapedefaults": {
           "line": {
            "color": "#2a3f5f"
           }
          },
          "ternary": {
           "aaxis": {
            "gridcolor": "white",
            "linecolor": "white",
            "ticks": ""
           },
           "baxis": {
            "gridcolor": "white",
            "linecolor": "white",
            "ticks": ""
           },
           "bgcolor": "#E5ECF6",
           "caxis": {
            "gridcolor": "white",
            "linecolor": "white",
            "ticks": ""
           }
          },
          "title": {
           "x": 0.05
          },
          "xaxis": {
           "automargin": true,
           "gridcolor": "white",
           "linecolor": "white",
           "ticks": "",
           "title": {
            "standoff": 15
           },
           "zerolinecolor": "white",
           "zerolinewidth": 2
          },
          "yaxis": {
           "automargin": true,
           "gridcolor": "white",
           "linecolor": "white",
           "ticks": "",
           "title": {
            "standoff": 15
           },
           "zerolinecolor": "white",
           "zerolinewidth": 2
          }
         }
        },
        "title": {
         "text": "Solution 1: Runtime Reduction in H100 Deployment Scenario"
        },
        "xaxis": {
         "dtick": 10,
         "linecolor": "black",
         "linewidth": 1,
         "showgrid": false,
         "title": {
          "text": "Layer Index"
         },
         "zeroline": true
        },
        "yaxis": {
         "gridcolor": "lightgray",
         "linecolor": "black",
         "linewidth": 1,
         "showgrid": true,
         "title": {
          "text": "Runtime (ms)"
         },
         "zeroline": true
        }
       }
      }
     },
     "metadata": {},
     "output_type": "display_data"
    },
    {
     "name": "stdout",
     "output_type": "stream",
     "text": [
      "\n",
      "Runtime Summary:\n",
      "- Parent model runtime: 65357.8 ms\n",
      "- Optimized runtime: 46980.2 ms\n",
      "- Total speedup: 1.39x\n",
      "- Average runtime reduction per layer: 28.1%\n",
      "- Sum KL divergence: 6.8615\n"
     ]
    }
   ],
   "source": [
    "df1 = visualize_runtime_reduction(solution1, block_library, parent_block_stats, \n",
    "                                  \"Solution 1: Runtime Reduction in H100 Deployment Scenario\")\n"
   ]
  },
  {
   "cell_type": "markdown",
   "metadata": {},
   "source": [
    "## Example 2: Edge Deployment with Strict Memory Constraints\n",
    "\n",
    "For edge deployment scenarios (e.g., consumer GPUs), memory is often the primary constraint.\n",
    "This example shows optimization with more aggressive memory reduction (fitting the model into 40GB) without a runtime constraint.\n"
   ]
  },
  {
   "cell_type": "code",
   "execution_count": 7,
   "metadata": {},
   "outputs": [
    {
     "name": "stdout",
     "output_type": "stream",
     "text": [
      "Running MIP optimization for edge deployment...\n",
      "Memory constraint: 40,000 MiB (aggressive reduction)\n",
      "\n",
      "Optimization Results:\n",
      "Solution Statistics:\n",
      "  - Sum of blockwise KL divergence: 18.935023\n",
      "  - Memory usage: 39998.9 MiB\n",
      "  - Runtime: 25166.2 ms\n",
      "  - Throughput: 12,207 tokens/second\n",
      "\n",
      "Compared to Parent Model:\n",
      "  - Memory: 34.8% of parent\n",
      "  - Runtime: 38.5% of parent (neglecting the fact that the parent doesn't even fit on the GPU in this batch size)\n",
      "  - Speedup: at least 2.60x\n",
      "  - Throughput increase: at least +159.7%\n"
     ]
    }
   ],
   "source": [
    "# Example: Edge deployment with strict memory constraints\n",
    "# Optimize for deployment on edge devices with limited memory\n",
    "\n",
    "# Much tighter memory constraint for edge devices\n",
    "edge_memory_constraint = 40_000  # MiB (simulating a smaller GPU)\n",
    "\n",
    "print(\"Running MIP optimization for edge deployment...\")\n",
    "print(f\"Memory constraint: {edge_memory_constraint:,} MiB (aggressive reduction)\")\n",
    "\n",
    "constraints_edge = {\n",
    "    \"stats.memory_mib\": edge_memory_constraint,\n",
    "    \"stats.runtime_ms\": float(\"inf\"),\n",
    "}\n",
    "\n",
    "chosen_block_variants_edge, total_value_edge, total_costs_edge = mip_nas(\n",
    "    block_library=block_library,\n",
    "    objective=objective,\n",
    "    constraints=constraints_edge,\n",
    "    bigger_is_better=bigger_is_better,\n",
    "    max_seconds_per_solution=30.0)\n",
    "\n",
    "print(f\"\\nOptimization Results:\")\n",
    "display_solution_stats(total_value_edge, total_costs_edge, \n",
    "                       block_library, parent_block_stats, measurement_info)\n",
    "\n",
    "solution2 = {\n",
    "    \"chosen_block_variants\": chosen_block_variants_edge,\n",
    "    \"total_value\": total_value_edge,\n",
    "    \"total_costs\": total_costs_edge,\n",
    "    \"constraints\": constraints_edge,\n",
    "    \"name\": \"Edge Optimized\"\n",
    "}"
   ]
  },
  {
   "cell_type": "markdown",
   "metadata": {},
   "source": [
    "### Comparison of Solutions for Different Deployment Scenarios\n",
    "\n",
    "Let's compare all deployment scenarios to understand the trade-offs:\n",
    "\n",
    "The comparison visualizes:\n",
    "- **Runtime/Memory per Layer**: How each solution's layers perform relative to the parent model (100% = parent performance).\n",
    "- **KL Divergence Across Layers**: Distribution of kl divergence loss across all 80 layers for each solution (lower is better).\n",
    "- **Throughput**: Overall inference speed in tokens/second for each solution."
   ]
  },
  {
   "cell_type": "code",
   "execution_count": 8,
   "metadata": {},
   "outputs": [
    {
     "name": "stdout",
     "output_type": "stream",
     "text": [
      "Comprehensive Solution Comparison\n",
      "================================================================================\n",
      " Configuration  Memory (GB)  Runtime (s)  Throughput (tok/s)  Speedup  Sum KL Divergence\n",
      "H100 Optimized         78.1        46.98              6539.0     1.39           6.861455\n",
      "Edge Optimized         39.1        25.17             12207.0     2.60          18.935023\n",
      "\n",
      "Visual Comparison:\n"
     ]
    },
    {
     "data": {
      "application/vnd.plotly.v1+json": {
       "config": {
        "plotlyServerURL": "https://plot.ly"
       },
       "data": [
        {
         "line": {
          "color": "blue",
          "width": 2
         },
         "mode": "lines",
         "name": "H100 Optimized",
         "showlegend": true,
         "type": "scatter",
         "x": {
          "bdata": "AAECAwQFBgcICQoLDA0ODxAREhMUFRYXGBkaGxwdHh8gISIjJCUmJygpKissLS4vMDEyMzQ1Njc4OTo7PD0+P0BBQkNERUZHSElKS0xNTk8=",
          "dtype": "i1"
         },
         "xaxis": "x",
         "y": {
          "bdata": "yQ33buPAUUAAAAAAAABZQAAAAAAAAFlAAAAAAAAAWUAAAAAAAABZQAAAAAAAAFlAlEdNzHW0O0CUR03MdbQ7QAAAAAAAAFlAAAAAAAAAWUAAAAAAAABZQAcUIO4hvUJAAAAAAAAAWUAAAAAAAABZQAAAAAAAAFlAAAAAAAAAWUAAAAAAAABZQAAAAAAAAFlAAAAAAAAAWUAAAAAAAABZQAAAAAAAAFlAAAAAAAAAWUAAAAAAAABZQAAAAAAAAFlAAAAAAAAAWUAAAAAAAABZQAAAAAAAAFlAAAAAAAAAWUAAAAAAAABZQAAAAAAAAFlAAAAAAAAAWUAAAAAAAABZQAAAAAAAAFlAAAAAAAAAWUAAAAAAAABZQAAAAAAAAFlAAAAAAAAAWUAAAAAAAABZQAAAAAAAAFlAAAAAAAAAWUAAAAAAAABZQAAAAAAAAFlAOIg4CHRYTEAIlAaV7LRFQDiIOAh0WExAlEdNzHW0O0A4iDgIdFhMQDiIOAh0WExAOIg4CHRYTECUR03MdbQ7QDiIOAh0WExAlEdNzHW0O0CUR03MdbQ7QDiIOAh0WExA4+lGgctgLEBJqgikie0vQJRHTcx1tDtASaoIpIntL0Dj6UaBy2AsQEmqCKSJ7S9ASaoIpIntL0BJqgikie0vQEmqCKSJ7S9AS0cxQtqOJEDj6UaBy2AsQOPpRoHLYCxAS0cxQtqOJEBLRzFC2o4kQEtHMULajiRA4+lGgctgLEAAAAAAAABZQAAAAAAAAFlAAAAAAAAAWUAAAAAAAABZQAAAAAAAAFlAAAAAAAAAWUAAAAAAAABZQAAAAAAAAFlAAAAAAAAAWUAAAAAAAABZQA==",
          "dtype": "f8"
         },
         "yaxis": "y"
        },
        {
         "line": {
          "color": "blue",
          "width": 2
         },
         "mode": "lines",
         "name": "H100 Optimized",
         "showlegend": false,
         "type": "scatter",
         "x": {
          "bdata": "AAECAwQFBgcICQoLDA0ODxAREhMUFRYXGBkaGxwdHh8gISIjJCUmJygpKissLS4vMDEyMzQ1Njc4OTo7PD0+P0BBQkNERUZHSElKS0xNTk8=",
          "dtype": "i1"
         },
         "xaxis": "x2",
         "y": {
          "bdata": "ggo3t6knU0AAAAAAAABZQAAAAAAAAFlAAAAAAAAAWUAAAAAAAABZQAAAAAAAAFlA/6mrw3xhN0D/qavDfGE3QAAAAAAAAFlAAAAAAAAAWUAAAAAAAABZQH2fdAzTOT1AAAAAAAAAWUAAAAAAAABZQAAAAAAAAFlAAAAAAAAAWUAAAAAAAABZQAAAAAAAAFlAAAAAAAAAWUAAAAAAAABZQAAAAAAAAFlAAAAAAAAAWUAAAAAAAABZQAAAAAAAAFlAAAAAAAAAWUAAAAAAAABZQAAAAAAAAFlAAAAAAAAAWUAAAAAAAABZQAAAAAAAAFlAAAAAAAAAWUAAAAAAAABZQAAAAAAAAFlAAAAAAAAAWUAAAAAAAABZQAAAAAAAAFlAAAAAAAAAWUAAAAAAAABZQAAAAAAAAFlAAAAAAAAAWUAAAAAAAABZQAAAAAAAAFlA/L9n82phR0B+yp6qFIlBQPy/Z/NqYUdA/6mrw3xhN0D8v2fzamFHQPy/Z/NqYUdA/L9n82phR0D/qavDfGE3QPy/Z/NqYUdA/6mrw3xhN0D/qavDfGE3QPy/Z/NqYUdAmKtiSg1fIkAEfjNkoGEnQP+pq8N8YTdABH4zZKBhJ0CYq2JKDV8iQAR+M2SgYSdABH4zZKBhJ0AEfjNkoGEnQAR+M2SgYSdApFNyi1RfEkCYq2JKDV8iQJirYkoNXyJApFNyi1RfEkCkU3KLVF8SQKRTcotUXxJAmKtiSg1fIkAAAAAAAABZQAAAAAAAAFlAAAAAAAAAWUAAAAAAAABZQAAAAAAAAFlAAAAAAAAAWUAAAAAAAABZQAAAAAAAAFlAAAAAAAAAWUAAAAAAAABZQA==",
          "dtype": "f8"
         },
         "yaxis": "y2"
        },
        {
         "marker": {
          "color": "blue"
         },
         "name": "H100 Optimized",
         "showlegend": false,
         "type": "box",
         "xaxis": "x3",
         "y": {
          "bdata": "AABASKV3sD8AAAAAAAAAAAAAAAAAAAAAAAAAAAAAAAAAAAAAAAAAAAAAAAAAAAAAAABgmDlmzj8AAGCvGdTOPwAAAAAAAAAAAAAAAAAAAAAAAAAAAAAAAAAAoAWe0s0/AAAAAAAAAAAAAAAAAAAAAAAAAAAAAAAAAAAAAAAAAAAAAAAAAAAAAAAAAAAAAAAAAAAAAAAAAAAAAAAAAAAAAAAAAAAAAAAAAAAAAAAAAAAAAAAAAAAAAAAAAAAAAAAAAAAAAAAAAAAAAAAAAAAAAAAAAAAAAAAAAAAAAAAAAAAAAAAAAAAAAAAAAAAAAAAAAAAAAAAAAAAAAAAAAAAAAAAAAAAAAAAAAAAAAAAAAAAAAAAAAAAAAAAAAAAAAAAAAAAAAAAAAAAAAAAAAAAAAAAAAAAAAAAAAAAAAAAAAAAAAAAAAAAAAAAAAAAAAAAAAACQeZWyxD8AANBT2DnMPwAAwKcg0sY/AACAP0Ev0D8AAIDtpvy6PwAAoOT4ZsM/AADQN3xPwT8AAHBnFvHMPwAAsFCz1bs/AAAgtDGsyz8AADArQU3QPwAAsIFyPcA/AAAAyefq0D8AAPA4jmHRPwAAkBxWMM0/AAAIsbYf0D8AALDJPRPPPwAAkA/7M80/AADQAWMG0j8AALB9El3MPwAA0Khb0co/AACwFYii0D8AAIAmzDDPPwAAsFT//ss/AADwLZnEzz8AAFBWYAjRPwAAyAPVJ9E/AACA13okzz8AAAAAAAAAAAAAAAAAAAAAAAAAAAAAAAAAAAAAAAAAAAAAAAAAAAAAAAAAAAAAAAAAAAAAAAAAAAAAAAAAAAAAAAAAAAAAAAAAAAAAAAAAAA==",
          "dtype": "f8"
         },
         "yaxis": "y3"
        },
        {
         "line": {
          "color": "red",
          "width": 2
         },
         "mode": "lines",
         "name": "Edge Optimized",
         "showlegend": true,
         "type": "scatter",
         "x": {
          "bdata": "AAECAwQFBgcICQoLDA0ODxAREhMUFRYXGBkaGxwdHh8gISIjJCUmJygpKissLS4vMDEyMzQ1Njc4OTo7PD0+P0BBQkNERUZHSElKS0xNTk8=",
          "dtype": "i1"
         },
         "xaxis": "x",
         "y": {
          "bdata": "yQ33buPAUUAAAAAAAABZQAAAAAAAAFlAAAAAAAAAWUAAAAAAAABZQEmqCKSJ7S9ASaoIpIntL0CUR03MdbQ7QJRHTcx1tDtAS0cxQtqOJEDj6UaBy2AsQJRHTcx1tDtAlEdNzHW0O0BLRzFC2o4kQOPpRoHLYCxAS0cxQtqOJEBLRzFC2o4kQAAAAAAAAFlAAAAAAAAAWUAAAAAAAABZQAAAAAAAAFlAlEdNzHW0O0AAAAAAAABZQAAAAAAAAFlAAAAAAAAAWUAHFCDuIb1CQAAAAAAAAFlAS0cxQtqOJEBLRzFC2o4kQAAAAAAAAFlAAAAAAAAAWUBLRzFC2o4kQEtHMULajiRASaoIpIntL0AAAAAAAABZQAAAAAAAAFlASaoIpIntL0AAAAAAAABZQJRHTcx1tDtAAAAAAAAAWUCUR03MdbQ7QEmqCKSJ7S9A4+lGgctgLEDj6UaBy2AsQEmqCKSJ7S9ASaoIpIntL0Dj6UaBy2AsQOPpRoHLYCxASaoIpIntL0Dj6UaBy2AsQOPpRoHLYCxA4+lGgctgLEDj6UaBy2AsQOPpRoHLYCxA4+lGgctgLEBLRzFC2o4kQOPpRoHLYCxA4+lGgctgLEBLRzFC2o4kQEtHMULajiRA4+lGgctgLEBLRzFC2o4kQEtHMULajiRAS0cxQtqOJEDj6UaBy2AsQOPpRoHLYCxAS0cxQtqOJEBLRzFC2o4kQEtHMULajiRAS0cxQtqOJEBLRzFC2o4kQEtHMULajiRAS0cxQtqOJEBLRzFC2o4kQEtHMULajiRAAAAAAAAAWUAAAAAAAABZQEmqCKSJ7S9AAAAAAAAAWUA4iDgIdFhMQA==",
          "dtype": "f8"
         },
         "yaxis": "y"
        },
        {
         "line": {
          "color": "red",
          "width": 2
         },
         "mode": "lines",
         "name": "Edge Optimized",
         "showlegend": false,
         "type": "scatter",
         "x": {
          "bdata": "AAECAwQFBgcICQoLDA0ODxAREhMUFRYXGBkaGxwdHh8gISIjJCUmJygpKissLS4vMDEyMzQ1Njc4OTo7PD0+P0BBQkNERUZHSElKS0xNTk8=",
          "dtype": "i1"
         },
         "xaxis": "x2",
         "y": {
          "bdata": "ggo3t6knU0AAAAAAAABZQAAAAAAAAFlAAAAAAAAAWUAAAAAAAABZQAR+M2SgYSdABH4zZKBhJ0D/qavDfGE3QP+pq8N8YTdApFNyi1RfEkCYq2JKDV8iQP+pq8N8YTdA/6mrw3xhN0CkU3KLVF8SQJirYkoNXyJApFNyi1RfEkCkU3KLVF8SQAAAAAAAAFlAAAAAAAAAWUAAAAAAAABZQAAAAAAAAFlA/6mrw3xhN0AAAAAAAABZQAAAAAAAAFlAAAAAAAAAWUB9n3QM0zk9QAAAAAAAAFlApFNyi1RfEkCkU3KLVF8SQAAAAAAAAFlAAAAAAAAAWUCkU3KLVF8SQKRTcotUXxJABH4zZKBhJ0AAAAAAAABZQAAAAAAAAFlABH4zZKBhJ0AAAAAAAABZQP+pq8N8YTdAAAAAAAAAWUD/qavDfGE3QAR+M2SgYSdAmKtiSg1fIkCYq2JKDV8iQAR+M2SgYSdABH4zZKBhJ0CYq2JKDV8iQJirYkoNXyJABH4zZKBhJ0CYq2JKDV8iQJirYkoNXyJAmKtiSg1fIkCYq2JKDV8iQJirYkoNXyJAmKtiSg1fIkCkU3KLVF8SQJirYkoNXyJAmKtiSg1fIkCkU3KLVF8SQKRTcotUXxJAmKtiSg1fIkCkU3KLVF8SQKRTcotUXxJApFNyi1RfEkCYq2JKDV8iQJirYkoNXyJApFNyi1RfEkCkU3KLVF8SQKRTcotUXxJApFNyi1RfEkCkU3KLVF8SQKRTcotUXxJApFNyi1RfEkCkU3KLVF8SQKRTcotUXxJAAAAAAAAAWUAAAAAAAABZQAR+M2SgYSdAAAAAAAAAWUD8v2fzamFHQA==",
          "dtype": "f8"
         },
         "yaxis": "y2"
        },
        {
         "marker": {
          "color": "red"
         },
         "name": "Edge Optimized",
         "showlegend": false,
         "type": "box",
         "xaxis": "x3",
         "y": {
          "bdata": "AABASKV3sD8AAAAAAAAAAAAAAAAAAAAAAAAAAAAAAAAAAAAAAAAAAAAAIOuFsdk/AAAwkOpz0j8AAGCvGdTOPwAA8BBjX9I/AACAFjKZ1z8AADAwVprVPwAAQOUmetA/AAAwYf+21D8AACDMmejbPwAA4JRWzts/AAAA2WTB2j8AAGBa+EjdPwAAAAAAAAAAAAAAAAAAAAAAAAAAAAAAAAAAAAAAAAAAAACA/0d02T8AAAAAAAAAAAAAAAAAAAAAAAAAAAAAAAAAAHAd+XLVPwAAAAAAAAAAAAAA7XGS3z8AAOBhaBHePwAAAAAAAAAAAAAAAAAAAAAAAKBjTbbfPwAAUKIdttw/AADAm+fK2z8AAAAAAAAAAAAAAAAAAAAAAACw1Q8F2z8AAAAAAAAAAAAA4JfaJ9M/AAAAAAAAAAAAACDVpXzSPwAAgPBeS9U/AACwSsWN0z8AAICLDtLUPwAAIFXCG9Q/AADA0mQU0z8AACCgRR3QPwAAYMgGk9I/AAAgQKZ30T8AAFhwvPLRPwAAsCwAFNA/AACoM4M30T8AAADNfwnUPwAAONWBItE/AAAAyefq0D8AAHjXqWHTPwAA0KIo/dE/AADYyFa00D8AAIhAHrbQPwAA+JFTgdA/AACwriKf0j8AAFgJ3TrQPwAAwDBfN84/AACwFYii0D8AAIAmzDDPPwAAsFT//ss/AADwLZnEzz8AAFBWYAjRPwAAyAPVJ9E/AACgdWip0D8AAPBJy+PYPwAAQDRDV9U/AABwAJef2j8AAAD4YrPdPwAAiKGaftY/AAAAAAAAAAAAAAAAAAAAAAAAgGthSNs/AAAAAAAAAAAAAPClE6nKPw==",
          "dtype": "f8"
         },
         "yaxis": "y3"
        },
        {
         "marker": {
          "color": [
           "blue",
           "red"
          ]
         },
         "showlegend": false,
         "text": [
          "6,539",
          "12,207"
         ],
         "textposition": "auto",
         "type": "bar",
         "x": [
          "H100 Optimized",
          "Edge Optimized"
         ],
         "xaxis": "x4",
         "y": [
          6538.928911683205,
          12206.844821506556
         ],
         "yaxis": "y4"
        }
       ],
       "layout": {
        "annotations": [
         {
          "font": {
           "size": 16
          },
          "showarrow": false,
          "text": "Runtime per Layer",
          "x": 0.2125,
          "xanchor": "center",
          "xref": "paper",
          "y": 1,
          "yanchor": "bottom",
          "yref": "paper"
         },
         {
          "font": {
           "size": 16
          },
          "showarrow": false,
          "text": "Memory per Layer",
          "x": 0.7875,
          "xanchor": "center",
          "xref": "paper",
          "y": 1,
          "yanchor": "bottom",
          "yref": "paper"
         },
         {
          "font": {
           "size": 16
          },
          "showarrow": false,
          "text": "KL Divergence by Solution",
          "x": 0.2125,
          "xanchor": "center",
          "xref": "paper",
          "y": 0.425,
          "yanchor": "bottom",
          "yref": "paper"
         },
         {
          "font": {
           "size": 16
          },
          "showarrow": false,
          "text": "Throughput Comparison",
          "x": 0.7875,
          "xanchor": "center",
          "xref": "paper",
          "y": 0.425,
          "yanchor": "bottom",
          "yref": "paper"
         }
        ],
        "height": 800,
        "showlegend": true,
        "template": {
         "data": {
          "bar": [
           {
            "error_x": {
             "color": "#2a3f5f"
            },
            "error_y": {
             "color": "#2a3f5f"
            },
            "marker": {
             "line": {
              "color": "#E5ECF6",
              "width": 0.5
             },
             "pattern": {
              "fillmode": "overlay",
              "size": 10,
              "solidity": 0.2
             }
            },
            "type": "bar"
           }
          ],
          "barpolar": [
           {
            "marker": {
             "line": {
              "color": "#E5ECF6",
              "width": 0.5
             },
             "pattern": {
              "fillmode": "overlay",
              "size": 10,
              "solidity": 0.2
             }
            },
            "type": "barpolar"
           }
          ],
          "carpet": [
           {
            "aaxis": {
             "endlinecolor": "#2a3f5f",
             "gridcolor": "white",
             "linecolor": "white",
             "minorgridcolor": "white",
             "startlinecolor": "#2a3f5f"
            },
            "baxis": {
             "endlinecolor": "#2a3f5f",
             "gridcolor": "white",
             "linecolor": "white",
             "minorgridcolor": "white",
             "startlinecolor": "#2a3f5f"
            },
            "type": "carpet"
           }
          ],
          "choropleth": [
           {
            "colorbar": {
             "outlinewidth": 0,
             "ticks": ""
            },
            "type": "choropleth"
           }
          ],
          "contour": [
           {
            "colorbar": {
             "outlinewidth": 0,
             "ticks": ""
            },
            "colorscale": [
             [
              0,
              "#0d0887"
             ],
             [
              0.1111111111111111,
              "#46039f"
             ],
             [
              0.2222222222222222,
              "#7201a8"
             ],
             [
              0.3333333333333333,
              "#9c179e"
             ],
             [
              0.4444444444444444,
              "#bd3786"
             ],
             [
              0.5555555555555556,
              "#d8576b"
             ],
             [
              0.6666666666666666,
              "#ed7953"
             ],
             [
              0.7777777777777778,
              "#fb9f3a"
             ],
             [
              0.8888888888888888,
              "#fdca26"
             ],
             [
              1,
              "#f0f921"
             ]
            ],
            "type": "contour"
           }
          ],
          "contourcarpet": [
           {
            "colorbar": {
             "outlinewidth": 0,
             "ticks": ""
            },
            "type": "contourcarpet"
           }
          ],
          "heatmap": [
           {
            "colorbar": {
             "outlinewidth": 0,
             "ticks": ""
            },
            "colorscale": [
             [
              0,
              "#0d0887"
             ],
             [
              0.1111111111111111,
              "#46039f"
             ],
             [
              0.2222222222222222,
              "#7201a8"
             ],
             [
              0.3333333333333333,
              "#9c179e"
             ],
             [
              0.4444444444444444,
              "#bd3786"
             ],
             [
              0.5555555555555556,
              "#d8576b"
             ],
             [
              0.6666666666666666,
              "#ed7953"
             ],
             [
              0.7777777777777778,
              "#fb9f3a"
             ],
             [
              0.8888888888888888,
              "#fdca26"
             ],
             [
              1,
              "#f0f921"
             ]
            ],
            "type": "heatmap"
           }
          ],
          "histogram": [
           {
            "marker": {
             "pattern": {
              "fillmode": "overlay",
              "size": 10,
              "solidity": 0.2
             }
            },
            "type": "histogram"
           }
          ],
          "histogram2d": [
           {
            "colorbar": {
             "outlinewidth": 0,
             "ticks": ""
            },
            "colorscale": [
             [
              0,
              "#0d0887"
             ],
             [
              0.1111111111111111,
              "#46039f"
             ],
             [
              0.2222222222222222,
              "#7201a8"
             ],
             [
              0.3333333333333333,
              "#9c179e"
             ],
             [
              0.4444444444444444,
              "#bd3786"
             ],
             [
              0.5555555555555556,
              "#d8576b"
             ],
             [
              0.6666666666666666,
              "#ed7953"
             ],
             [
              0.7777777777777778,
              "#fb9f3a"
             ],
             [
              0.8888888888888888,
              "#fdca26"
             ],
             [
              1,
              "#f0f921"
             ]
            ],
            "type": "histogram2d"
           }
          ],
          "histogram2dcontour": [
           {
            "colorbar": {
             "outlinewidth": 0,
             "ticks": ""
            },
            "colorscale": [
             [
              0,
              "#0d0887"
             ],
             [
              0.1111111111111111,
              "#46039f"
             ],
             [
              0.2222222222222222,
              "#7201a8"
             ],
             [
              0.3333333333333333,
              "#9c179e"
             ],
             [
              0.4444444444444444,
              "#bd3786"
             ],
             [
              0.5555555555555556,
              "#d8576b"
             ],
             [
              0.6666666666666666,
              "#ed7953"
             ],
             [
              0.7777777777777778,
              "#fb9f3a"
             ],
             [
              0.8888888888888888,
              "#fdca26"
             ],
             [
              1,
              "#f0f921"
             ]
            ],
            "type": "histogram2dcontour"
           }
          ],
          "mesh3d": [
           {
            "colorbar": {
             "outlinewidth": 0,
             "ticks": ""
            },
            "type": "mesh3d"
           }
          ],
          "parcoords": [
           {
            "line": {
             "colorbar": {
              "outlinewidth": 0,
              "ticks": ""
             }
            },
            "type": "parcoords"
           }
          ],
          "pie": [
           {
            "automargin": true,
            "type": "pie"
           }
          ],
          "scatter": [
           {
            "fillpattern": {
             "fillmode": "overlay",
             "size": 10,
             "solidity": 0.2
            },
            "type": "scatter"
           }
          ],
          "scatter3d": [
           {
            "line": {
             "colorbar": {
              "outlinewidth": 0,
              "ticks": ""
             }
            },
            "marker": {
             "colorbar": {
              "outlinewidth": 0,
              "ticks": ""
             }
            },
            "type": "scatter3d"
           }
          ],
          "scattercarpet": [
           {
            "marker": {
             "colorbar": {
              "outlinewidth": 0,
              "ticks": ""
             }
            },
            "type": "scattercarpet"
           }
          ],
          "scattergeo": [
           {
            "marker": {
             "colorbar": {
              "outlinewidth": 0,
              "ticks": ""
             }
            },
            "type": "scattergeo"
           }
          ],
          "scattergl": [
           {
            "marker": {
             "colorbar": {
              "outlinewidth": 0,
              "ticks": ""
             }
            },
            "type": "scattergl"
           }
          ],
          "scattermap": [
           {
            "marker": {
             "colorbar": {
              "outlinewidth": 0,
              "ticks": ""
             }
            },
            "type": "scattermap"
           }
          ],
          "scattermapbox": [
           {
            "marker": {
             "colorbar": {
              "outlinewidth": 0,
              "ticks": ""
             }
            },
            "type": "scattermapbox"
           }
          ],
          "scatterpolar": [
           {
            "marker": {
             "colorbar": {
              "outlinewidth": 0,
              "ticks": ""
             }
            },
            "type": "scatterpolar"
           }
          ],
          "scatterpolargl": [
           {
            "marker": {
             "colorbar": {
              "outlinewidth": 0,
              "ticks": ""
             }
            },
            "type": "scatterpolargl"
           }
          ],
          "scatterternary": [
           {
            "marker": {
             "colorbar": {
              "outlinewidth": 0,
              "ticks": ""
             }
            },
            "type": "scatterternary"
           }
          ],
          "surface": [
           {
            "colorbar": {
             "outlinewidth": 0,
             "ticks": ""
            },
            "colorscale": [
             [
              0,
              "#0d0887"
             ],
             [
              0.1111111111111111,
              "#46039f"
             ],
             [
              0.2222222222222222,
              "#7201a8"
             ],
             [
              0.3333333333333333,
              "#9c179e"
             ],
             [
              0.4444444444444444,
              "#bd3786"
             ],
             [
              0.5555555555555556,
              "#d8576b"
             ],
             [
              0.6666666666666666,
              "#ed7953"
             ],
             [
              0.7777777777777778,
              "#fb9f3a"
             ],
             [
              0.8888888888888888,
              "#fdca26"
             ],
             [
              1,
              "#f0f921"
             ]
            ],
            "type": "surface"
           }
          ],
          "table": [
           {
            "cells": {
             "fill": {
              "color": "#EBF0F8"
             },
             "line": {
              "color": "white"
             }
            },
            "header": {
             "fill": {
              "color": "#C8D4E3"
             },
             "line": {
              "color": "white"
             }
            },
            "type": "table"
           }
          ]
         },
         "layout": {
          "annotationdefaults": {
           "arrowcolor": "#2a3f5f",
           "arrowhead": 0,
           "arrowwidth": 1
          },
          "autotypenumbers": "strict",
          "coloraxis": {
           "colorbar": {
            "outlinewidth": 0,
            "ticks": ""
           }
          },
          "colorscale": {
           "diverging": [
            [
             0,
             "#8e0152"
            ],
            [
             0.1,
             "#c51b7d"
            ],
            [
             0.2,
             "#de77ae"
            ],
            [
             0.3,
             "#f1b6da"
            ],
            [
             0.4,
             "#fde0ef"
            ],
            [
             0.5,
             "#f7f7f7"
            ],
            [
             0.6,
             "#e6f5d0"
            ],
            [
             0.7,
             "#b8e186"
            ],
            [
             0.8,
             "#7fbc41"
            ],
            [
             0.9,
             "#4d9221"
            ],
            [
             1,
             "#276419"
            ]
           ],
           "sequential": [
            [
             0,
             "#0d0887"
            ],
            [
             0.1111111111111111,
             "#46039f"
            ],
            [
             0.2222222222222222,
             "#7201a8"
            ],
            [
             0.3333333333333333,
             "#9c179e"
            ],
            [
             0.4444444444444444,
             "#bd3786"
            ],
            [
             0.5555555555555556,
             "#d8576b"
            ],
            [
             0.6666666666666666,
             "#ed7953"
            ],
            [
             0.7777777777777778,
             "#fb9f3a"
            ],
            [
             0.8888888888888888,
             "#fdca26"
            ],
            [
             1,
             "#f0f921"
            ]
           ],
           "sequentialminus": [
            [
             0,
             "#0d0887"
            ],
            [
             0.1111111111111111,
             "#46039f"
            ],
            [
             0.2222222222222222,
             "#7201a8"
            ],
            [
             0.3333333333333333,
             "#9c179e"
            ],
            [
             0.4444444444444444,
             "#bd3786"
            ],
            [
             0.5555555555555556,
             "#d8576b"
            ],
            [
             0.6666666666666666,
             "#ed7953"
            ],
            [
             0.7777777777777778,
             "#fb9f3a"
            ],
            [
             0.8888888888888888,
             "#fdca26"
            ],
            [
             1,
             "#f0f921"
            ]
           ]
          },
          "colorway": [
           "#636efa",
           "#EF553B",
           "#00cc96",
           "#ab63fa",
           "#FFA15A",
           "#19d3f3",
           "#FF6692",
           "#B6E880",
           "#FF97FF",
           "#FECB52"
          ],
          "font": {
           "color": "#2a3f5f"
          },
          "geo": {
           "bgcolor": "white",
           "lakecolor": "white",
           "landcolor": "#E5ECF6",
           "showlakes": true,
           "showland": true,
           "subunitcolor": "white"
          },
          "hoverlabel": {
           "align": "left"
          },
          "hovermode": "closest",
          "mapbox": {
           "style": "light"
          },
          "paper_bgcolor": "white",
          "plot_bgcolor": "#E5ECF6",
          "polar": {
           "angularaxis": {
            "gridcolor": "white",
            "linecolor": "white",
            "ticks": ""
           },
           "bgcolor": "#E5ECF6",
           "radialaxis": {
            "gridcolor": "white",
            "linecolor": "white",
            "ticks": ""
           }
          },
          "scene": {
           "xaxis": {
            "backgroundcolor": "#E5ECF6",
            "gridcolor": "white",
            "gridwidth": 2,
            "linecolor": "white",
            "showbackground": true,
            "ticks": "",
            "zerolinecolor": "white"
           },
           "yaxis": {
            "backgroundcolor": "#E5ECF6",
            "gridcolor": "white",
            "gridwidth": 2,
            "linecolor": "white",
            "showbackground": true,
            "ticks": "",
            "zerolinecolor": "white"
           },
           "zaxis": {
            "backgroundcolor": "#E5ECF6",
            "gridcolor": "white",
            "gridwidth": 2,
            "linecolor": "white",
            "showbackground": true,
            "ticks": "",
            "zerolinecolor": "white"
           }
          },
          "shapedefaults": {
           "line": {
            "color": "#2a3f5f"
           }
          },
          "ternary": {
           "aaxis": {
            "gridcolor": "white",
            "linecolor": "white",
            "ticks": ""
           },
           "baxis": {
            "gridcolor": "white",
            "linecolor": "white",
            "ticks": ""
           },
           "bgcolor": "#E5ECF6",
           "caxis": {
            "gridcolor": "white",
            "linecolor": "white",
            "ticks": ""
           }
          },
          "title": {
           "x": 0.05
          },
          "xaxis": {
           "automargin": true,
           "gridcolor": "white",
           "linecolor": "white",
           "ticks": "",
           "title": {
            "standoff": 15
           },
           "zerolinecolor": "white",
           "zerolinewidth": 2
          },
          "yaxis": {
           "automargin": true,
           "gridcolor": "white",
           "linecolor": "white",
           "ticks": "",
           "title": {
            "standoff": 15
           },
           "zerolinecolor": "white",
           "zerolinewidth": 2
          }
         }
        },
        "title": {
         "text": "Puzzle Solutions Comparison"
        },
        "xaxis": {
         "anchor": "y",
         "domain": [
          0,
          0.425
         ],
         "title": {
          "text": "Layer Index"
         }
        },
        "xaxis2": {
         "anchor": "y2",
         "domain": [
          0.575,
          1
         ],
         "title": {
          "text": "Layer Index"
         }
        },
        "xaxis3": {
         "anchor": "y3",
         "domain": [
          0,
          0.425
         ],
         "title": {
          "text": "Solution"
         }
        },
        "xaxis4": {
         "anchor": "y4",
         "domain": [
          0.575,
          1
         ],
         "title": {
          "text": "Solution"
         }
        },
        "yaxis": {
         "anchor": "x",
         "domain": [
          0.575,
          1
         ],
         "title": {
          "text": "Runtime (% of parent)"
         }
        },
        "yaxis2": {
         "anchor": "x2",
         "domain": [
          0.575,
          1
         ],
         "title": {
          "text": "Memory (% of parent)"
         }
        },
        "yaxis3": {
         "anchor": "x3",
         "domain": [
          0,
          0.425
         ],
         "title": {
          "text": "KL Divergence per Layer"
         }
        },
        "yaxis4": {
         "anchor": "x4",
         "domain": [
          0,
          0.425
         ],
         "title": {
          "text": "Tokens/Second"
         }
        }
       }
      }
     },
     "metadata": {},
     "output_type": "display_data"
    }
   ],
   "source": [
    "\n",
    "all_solutions = [solution1, solution2]\n",
    "comprehensive_solution_comparison(all_solutions, block_library, parent_block_stats, measurement_info)\n"
   ]
  },
  {
   "cell_type": "markdown",
   "metadata": {},
   "source": [
    "## Example 3: Multiple Solutions with Diversity Constraints\n",
    "\n",
    "The MIP solver can generate multiple diverse solutions, useful for testing several promising architectures instead of one. Since the MIP's objective is only an estimation of real performance (sum of KL divergence scores).\n",
    "\n",
    "The `minimal_diversity` parameter ensures solutions differ in at least N layers:\n"
   ]
  },
  {
   "cell_type": "code",
   "execution_count": 9,
   "metadata": {},
   "outputs": [
    {
     "name": "stdout",
     "output_type": "stream",
     "text": [
      "Generating multiple diverse solutions with minimal_diversity=20 ...\n",
      "Number of layers: 80\n",
      "Constraints: Memory=97723 MiB (85% of parent total)\n",
      "           Runtime=55554 ms (85% of parent total)\n"
     ]
    },
    {
     "name": "stderr",
     "output_type": "stream",
     "text": [
      "multi_solution_mip_nas: 100%|██████████| 3/3 [00:00<00:00,  3.09it/s]"
     ]
    },
    {
     "name": "stdout",
     "output_type": "stream",
     "text": [
      "\n",
      "Generated 3 solutions. Notice how the objective (Sum KL Divergence) monotonically gets worse.\n",
      "\n",
      "Solution 1:\n",
      "  - Sum KL Divergence: 3.2821\n",
      "  - Memory: 96418.0 MiB\n",
      "  - Runtime: 55547.9 ms\n",
      "\n",
      "Solution 2:\n",
      "  - Sum KL Divergence: 3.3417\n",
      "  - Memory: 96607.1 MiB\n",
      "  - Runtime: 55540.0 ms\n",
      "\n",
      "Solution 3:\n",
      "  - Sum KL Divergence: 3.3822\n",
      "  - Memory: 96238.0 MiB\n",
      "  - Runtime: 55552.8 ms\n",
      "\n",
      "Diversity check: Solutions 1 and 2 differ in 20 layers\n"
     ]
    },
    {
     "name": "stderr",
     "output_type": "stream",
     "text": [
      "\n"
     ]
    }
   ],
   "source": [
    "# Example: Generate multiple diverse solutions\n",
    "# Calculate constraints based on the actual parent model stats\n",
    "num_layers = len(block_library)\n",
    "parent_memory_per_layer = parent_block_stats['stats']['memory_mib']\n",
    "parent_runtime_per_layer = parent_block_stats['stats']['runtime_ms']\n",
    "\n",
    "constraints_multi = {\n",
    "    \"stats.memory_mib\": num_layers * parent_memory_per_layer * 0.85,\n",
    "    \"stats.runtime_ms\": num_layers * parent_runtime_per_layer * 0.85,\n",
    "}\n",
    "\n",
    "minimal_diversity = 20 # Solutions must differ in at least 20 layers between solutions\n",
    "\n",
    "print(f\"Generating multiple diverse solutions with {minimal_diversity=} ...\")\n",
    "print(f\"Number of layers: {num_layers}\")\n",
    "print(f\"Constraints: Memory={constraints_multi['stats.memory_mib']:.0f} MiB (85% of parent total)\")\n",
    "print(f\"           Runtime={constraints_multi['stats.runtime_ms']:.0f} ms (85% of parent total)\")\n",
    "\n",
    "multi_solutions = multi_solution_mip_nas(\n",
    "    block_library=block_library,\n",
    "    objective=objective,\n",
    "    constraints=constraints_multi,\n",
    "    bigger_is_better=bigger_is_better,\n",
    "    num_solutions=3,\n",
    "    minimal_diversity=minimal_diversity,\n",
    ")\n",
    "\n",
    "print(f\"\\nGenerated {len(multi_solutions)} solutions. Notice how the objective (Sum KL Divergence) monotonically gets worse.\")\n",
    "for i, sol in enumerate(multi_solutions):\n",
    "    print(f\"\\nSolution {i+1}:\")\n",
    "    print(f\"  - Sum KL Divergence: {sol['total_value']:.4f}\")\n",
    "    print(f\"  - Memory: {sol['total_costs']['stats.memory_mib']:.1f} MiB\")\n",
    "    # Note: runtime_ms is the latency (forward pass time) in milliseconds\\n\n",
    "    print(f\"  - Runtime: {sol['total_costs']['stats.runtime_ms']:.1f} ms\")\n",
    "\n",
    "# Check diversity between solutions\n",
    "if len(multi_solutions) >= 2:\n",
    "    sol1_configs = multi_solutions[0]['chosen_block_variants']\n",
    "    sol2_configs = multi_solutions[1]['chosen_block_variants']\n",
    "    differences = sum(1 for layer in sol1_configs if sol1_configs[layer] != sol2_configs[layer])\n",
    "    print(f\"\\nDiversity check: Solutions 1 and 2 differ in {differences} layers\")\n"
   ]
  },
  {
   "cell_type": "markdown",
   "metadata": {},
   "source": [
    "## Notes About the MIP Optimization\n",
    "\n",
    "### 1. **Constraint Trade-offs**\n",
    "- Tighter resource constraints (e.g., less memory, faster runtime) may cause the accuracy to degrade more,\n",
    "  since lighter block variants would need to be used.\n",
    "- The MIP solver tries to find the model with the best objective score given your constraints.\n",
    "\n",
    "### 2. **Layer-wise Optimization**\n",
    "- The solver can choose different configurations for each layer independently.\n",
    "- The above visualizations show how reduction varies across layers. You can create your own solutions for your specific constraints and see how results differ.\n",
    "\n",
    "### 3. **Scalability**\n",
    "- With 80 layers × 16 configurations = 1280 binary indicator variables.\n",
    "- Total search space: 16^80 ~= 2e96 possible architectures.\n",
    "- The MIP solver efficiently navigates this space, finding a solution in seconds.\n",
    "\n",
    "### 4. **Block Scores and the MIP's Objective**\n",
    "- Remember that MIP optimizes for the block scores provided (sum of blocks' KL Divergence scores). If resources allow, consider evaluating the MIP's top-k solutions.\n",
    "- If a specific downstream task is required for the optimized LLM, consider collecting block scores on data from this task (refer to the paper to learn more).\n",
    "\n",
    "### 5. **How MIP fits inside the Puzzle pipeline**\n",
    "- In a complete Puzzle pipeline:\n",
    "  - **Before the MIP stage**: We run BLD and evaluate all alternative blocks to create the block library.\n",
    "  - **After the MIP stage**: We use GKD to fine-tune the assembled architecture.\n"
   ]
  },
  {
   "cell_type": "markdown",
   "metadata": {},
   "source": [
    "### References:\n",
    "- [Puzzle Paper (ICML 2025)](https://openreview.net/pdf?id=RY5MMBHRqo)\n",
    "- [ICML 2025 Presentation](https://icml.cc/virtual/2025/poster/45275)\n",
    "- [Video Summary](https://www.youtube.com/watch?v=YsIv9Kr99C4)"
   ]
  }
 ],
 "metadata": {
  "kernelspec": {
   "display_name": "Python 3 (ipykernel)",
   "language": "python",
   "name": "python3"
  },
  "language_info": {
   "codemirror_mode": {
    "name": "ipython",
    "version": 3
   },
   "file_extension": ".py",
   "mimetype": "text/x-python",
   "name": "python",
   "nbconvert_exporter": "python",
   "pygments_lexer": "ipython3",
   "version": "3.10.12"
  }
 },
 "nbformat": 4,
 "nbformat_minor": 4
}
